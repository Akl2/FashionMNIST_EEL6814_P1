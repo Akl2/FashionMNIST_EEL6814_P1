{
  "nbformat": 4,
  "nbformat_minor": 0,
  "metadata": {
    "colab": {
      "name": "0.0005adam_MSE_CNN_Model_Project_NN&DL.ipynb",
      "provenance": [],
      "collapsed_sections": [],
      "toc_visible": true
    },
    "kernelspec": {
      "name": "python3",
      "display_name": "Python 3"
    },
    "widgets": {
      "application/vnd.jupyter.widget-state+json": {
        "ace5944660ad4de2a5809e57719b45a6": {
          "model_module": "@jupyter-widgets/controls",
          "model_name": "HBoxModel",
          "state": {
            "_view_name": "HBoxView",
            "_dom_classes": [],
            "_model_name": "HBoxModel",
            "_view_module": "@jupyter-widgets/controls",
            "_model_module_version": "1.5.0",
            "_view_count": null,
            "_view_module_version": "1.5.0",
            "box_style": "",
            "layout": "IPY_MODEL_892e5a8017384b43883db0a01a87f84f",
            "_model_module": "@jupyter-widgets/controls",
            "children": [
              "IPY_MODEL_52acf2ec6306432486008a93013c414b",
              "IPY_MODEL_8187632e36464b249578107458bf7939"
            ]
          }
        },
        "892e5a8017384b43883db0a01a87f84f": {
          "model_module": "@jupyter-widgets/base",
          "model_name": "LayoutModel",
          "state": {
            "_view_name": "LayoutView",
            "grid_template_rows": null,
            "right": null,
            "justify_content": null,
            "_view_module": "@jupyter-widgets/base",
            "overflow": null,
            "_model_module_version": "1.2.0",
            "_view_count": null,
            "flex_flow": null,
            "width": null,
            "min_width": null,
            "border": null,
            "align_items": null,
            "bottom": null,
            "_model_module": "@jupyter-widgets/base",
            "top": null,
            "grid_column": null,
            "overflow_y": null,
            "overflow_x": null,
            "grid_auto_flow": null,
            "grid_area": null,
            "grid_template_columns": null,
            "flex": null,
            "_model_name": "LayoutModel",
            "justify_items": null,
            "grid_row": null,
            "max_height": null,
            "align_content": null,
            "visibility": null,
            "align_self": null,
            "height": null,
            "min_height": null,
            "padding": null,
            "grid_auto_rows": null,
            "grid_gap": null,
            "max_width": null,
            "order": null,
            "_view_module_version": "1.2.0",
            "grid_template_areas": null,
            "object_position": null,
            "object_fit": null,
            "grid_auto_columns": null,
            "margin": null,
            "display": null,
            "left": null
          }
        },
        "52acf2ec6306432486008a93013c414b": {
          "model_module": "@jupyter-widgets/controls",
          "model_name": "FloatProgressModel",
          "state": {
            "_view_name": "ProgressView",
            "style": "IPY_MODEL_9ed85b08e3164b3e8d60d5beb2572b9a",
            "_dom_classes": [],
            "description": "",
            "_model_name": "FloatProgressModel",
            "bar_style": "success",
            "max": 1,
            "_view_module": "@jupyter-widgets/controls",
            "_model_module_version": "1.5.0",
            "value": 1,
            "_view_count": null,
            "_view_module_version": "1.5.0",
            "orientation": "horizontal",
            "min": 0,
            "description_tooltip": null,
            "_model_module": "@jupyter-widgets/controls",
            "layout": "IPY_MODEL_85593f4624ee42a1a77e69f95ff50a71"
          }
        },
        "8187632e36464b249578107458bf7939": {
          "model_module": "@jupyter-widgets/controls",
          "model_name": "HTMLModel",
          "state": {
            "_view_name": "HTMLView",
            "style": "IPY_MODEL_b21d50fbcc8d4533a05eee26b0a45dcd",
            "_dom_classes": [],
            "description": "",
            "_model_name": "HTMLModel",
            "placeholder": "​",
            "_view_module": "@jupyter-widgets/controls",
            "_model_module_version": "1.5.0",
            "value": " 26427392/? [00:02&lt;00:00, 8882726.58it/s]",
            "_view_count": null,
            "_view_module_version": "1.5.0",
            "description_tooltip": null,
            "_model_module": "@jupyter-widgets/controls",
            "layout": "IPY_MODEL_621905fa9af647379c264a04b9fa6c88"
          }
        },
        "9ed85b08e3164b3e8d60d5beb2572b9a": {
          "model_module": "@jupyter-widgets/controls",
          "model_name": "ProgressStyleModel",
          "state": {
            "_view_name": "StyleView",
            "_model_name": "ProgressStyleModel",
            "description_width": "initial",
            "_view_module": "@jupyter-widgets/base",
            "_model_module_version": "1.5.0",
            "_view_count": null,
            "_view_module_version": "1.2.0",
            "bar_color": null,
            "_model_module": "@jupyter-widgets/controls"
          }
        },
        "85593f4624ee42a1a77e69f95ff50a71": {
          "model_module": "@jupyter-widgets/base",
          "model_name": "LayoutModel",
          "state": {
            "_view_name": "LayoutView",
            "grid_template_rows": null,
            "right": null,
            "justify_content": null,
            "_view_module": "@jupyter-widgets/base",
            "overflow": null,
            "_model_module_version": "1.2.0",
            "_view_count": null,
            "flex_flow": null,
            "width": null,
            "min_width": null,
            "border": null,
            "align_items": null,
            "bottom": null,
            "_model_module": "@jupyter-widgets/base",
            "top": null,
            "grid_column": null,
            "overflow_y": null,
            "overflow_x": null,
            "grid_auto_flow": null,
            "grid_area": null,
            "grid_template_columns": null,
            "flex": null,
            "_model_name": "LayoutModel",
            "justify_items": null,
            "grid_row": null,
            "max_height": null,
            "align_content": null,
            "visibility": null,
            "align_self": null,
            "height": null,
            "min_height": null,
            "padding": null,
            "grid_auto_rows": null,
            "grid_gap": null,
            "max_width": null,
            "order": null,
            "_view_module_version": "1.2.0",
            "grid_template_areas": null,
            "object_position": null,
            "object_fit": null,
            "grid_auto_columns": null,
            "margin": null,
            "display": null,
            "left": null
          }
        },
        "b21d50fbcc8d4533a05eee26b0a45dcd": {
          "model_module": "@jupyter-widgets/controls",
          "model_name": "DescriptionStyleModel",
          "state": {
            "_view_name": "StyleView",
            "_model_name": "DescriptionStyleModel",
            "description_width": "",
            "_view_module": "@jupyter-widgets/base",
            "_model_module_version": "1.5.0",
            "_view_count": null,
            "_view_module_version": "1.2.0",
            "_model_module": "@jupyter-widgets/controls"
          }
        },
        "621905fa9af647379c264a04b9fa6c88": {
          "model_module": "@jupyter-widgets/base",
          "model_name": "LayoutModel",
          "state": {
            "_view_name": "LayoutView",
            "grid_template_rows": null,
            "right": null,
            "justify_content": null,
            "_view_module": "@jupyter-widgets/base",
            "overflow": null,
            "_model_module_version": "1.2.0",
            "_view_count": null,
            "flex_flow": null,
            "width": null,
            "min_width": null,
            "border": null,
            "align_items": null,
            "bottom": null,
            "_model_module": "@jupyter-widgets/base",
            "top": null,
            "grid_column": null,
            "overflow_y": null,
            "overflow_x": null,
            "grid_auto_flow": null,
            "grid_area": null,
            "grid_template_columns": null,
            "flex": null,
            "_model_name": "LayoutModel",
            "justify_items": null,
            "grid_row": null,
            "max_height": null,
            "align_content": null,
            "visibility": null,
            "align_self": null,
            "height": null,
            "min_height": null,
            "padding": null,
            "grid_auto_rows": null,
            "grid_gap": null,
            "max_width": null,
            "order": null,
            "_view_module_version": "1.2.0",
            "grid_template_areas": null,
            "object_position": null,
            "object_fit": null,
            "grid_auto_columns": null,
            "margin": null,
            "display": null,
            "left": null
          }
        },
        "fdb429f7991e4dd38714d0e71bcc7543": {
          "model_module": "@jupyter-widgets/controls",
          "model_name": "HBoxModel",
          "state": {
            "_view_name": "HBoxView",
            "_dom_classes": [],
            "_model_name": "HBoxModel",
            "_view_module": "@jupyter-widgets/controls",
            "_model_module_version": "1.5.0",
            "_view_count": null,
            "_view_module_version": "1.5.0",
            "box_style": "",
            "layout": "IPY_MODEL_38f42c95a6fc419f83237361f1af5df9",
            "_model_module": "@jupyter-widgets/controls",
            "children": [
              "IPY_MODEL_abaf7789653144a684970af2e6c6e63b",
              "IPY_MODEL_6187826c1660497b8e278d2caa58e26d"
            ]
          }
        },
        "38f42c95a6fc419f83237361f1af5df9": {
          "model_module": "@jupyter-widgets/base",
          "model_name": "LayoutModel",
          "state": {
            "_view_name": "LayoutView",
            "grid_template_rows": null,
            "right": null,
            "justify_content": null,
            "_view_module": "@jupyter-widgets/base",
            "overflow": null,
            "_model_module_version": "1.2.0",
            "_view_count": null,
            "flex_flow": null,
            "width": null,
            "min_width": null,
            "border": null,
            "align_items": null,
            "bottom": null,
            "_model_module": "@jupyter-widgets/base",
            "top": null,
            "grid_column": null,
            "overflow_y": null,
            "overflow_x": null,
            "grid_auto_flow": null,
            "grid_area": null,
            "grid_template_columns": null,
            "flex": null,
            "_model_name": "LayoutModel",
            "justify_items": null,
            "grid_row": null,
            "max_height": null,
            "align_content": null,
            "visibility": null,
            "align_self": null,
            "height": null,
            "min_height": null,
            "padding": null,
            "grid_auto_rows": null,
            "grid_gap": null,
            "max_width": null,
            "order": null,
            "_view_module_version": "1.2.0",
            "grid_template_areas": null,
            "object_position": null,
            "object_fit": null,
            "grid_auto_columns": null,
            "margin": null,
            "display": null,
            "left": null
          }
        },
        "abaf7789653144a684970af2e6c6e63b": {
          "model_module": "@jupyter-widgets/controls",
          "model_name": "FloatProgressModel",
          "state": {
            "_view_name": "ProgressView",
            "style": "IPY_MODEL_ed5cbebcc19b4bc0b594fc9064caf8bf",
            "_dom_classes": [],
            "description": "",
            "_model_name": "FloatProgressModel",
            "bar_style": "info",
            "max": 1,
            "_view_module": "@jupyter-widgets/controls",
            "_model_module_version": "1.5.0",
            "value": 1,
            "_view_count": null,
            "_view_module_version": "1.5.0",
            "orientation": "horizontal",
            "min": 0,
            "description_tooltip": null,
            "_model_module": "@jupyter-widgets/controls",
            "layout": "IPY_MODEL_36c4346cc5784c309b15996cbffcb22b"
          }
        },
        "6187826c1660497b8e278d2caa58e26d": {
          "model_module": "@jupyter-widgets/controls",
          "model_name": "HTMLModel",
          "state": {
            "_view_name": "HTMLView",
            "style": "IPY_MODEL_a6d146b662c1431b90f62818dd2cbe3d",
            "_dom_classes": [],
            "description": "",
            "_model_name": "HTMLModel",
            "placeholder": "​",
            "_view_module": "@jupyter-widgets/controls",
            "_model_module_version": "1.5.0",
            "value": " 32768/? [00:17&lt;00:00, 116744.38it/s]",
            "_view_count": null,
            "_view_module_version": "1.5.0",
            "description_tooltip": null,
            "_model_module": "@jupyter-widgets/controls",
            "layout": "IPY_MODEL_787681cd2ca3446b843440240f10fca1"
          }
        },
        "ed5cbebcc19b4bc0b594fc9064caf8bf": {
          "model_module": "@jupyter-widgets/controls",
          "model_name": "ProgressStyleModel",
          "state": {
            "_view_name": "StyleView",
            "_model_name": "ProgressStyleModel",
            "description_width": "initial",
            "_view_module": "@jupyter-widgets/base",
            "_model_module_version": "1.5.0",
            "_view_count": null,
            "_view_module_version": "1.2.0",
            "bar_color": null,
            "_model_module": "@jupyter-widgets/controls"
          }
        },
        "36c4346cc5784c309b15996cbffcb22b": {
          "model_module": "@jupyter-widgets/base",
          "model_name": "LayoutModel",
          "state": {
            "_view_name": "LayoutView",
            "grid_template_rows": null,
            "right": null,
            "justify_content": null,
            "_view_module": "@jupyter-widgets/base",
            "overflow": null,
            "_model_module_version": "1.2.0",
            "_view_count": null,
            "flex_flow": null,
            "width": null,
            "min_width": null,
            "border": null,
            "align_items": null,
            "bottom": null,
            "_model_module": "@jupyter-widgets/base",
            "top": null,
            "grid_column": null,
            "overflow_y": null,
            "overflow_x": null,
            "grid_auto_flow": null,
            "grid_area": null,
            "grid_template_columns": null,
            "flex": null,
            "_model_name": "LayoutModel",
            "justify_items": null,
            "grid_row": null,
            "max_height": null,
            "align_content": null,
            "visibility": null,
            "align_self": null,
            "height": null,
            "min_height": null,
            "padding": null,
            "grid_auto_rows": null,
            "grid_gap": null,
            "max_width": null,
            "order": null,
            "_view_module_version": "1.2.0",
            "grid_template_areas": null,
            "object_position": null,
            "object_fit": null,
            "grid_auto_columns": null,
            "margin": null,
            "display": null,
            "left": null
          }
        },
        "a6d146b662c1431b90f62818dd2cbe3d": {
          "model_module": "@jupyter-widgets/controls",
          "model_name": "DescriptionStyleModel",
          "state": {
            "_view_name": "StyleView",
            "_model_name": "DescriptionStyleModel",
            "description_width": "",
            "_view_module": "@jupyter-widgets/base",
            "_model_module_version": "1.5.0",
            "_view_count": null,
            "_view_module_version": "1.2.0",
            "_model_module": "@jupyter-widgets/controls"
          }
        },
        "787681cd2ca3446b843440240f10fca1": {
          "model_module": "@jupyter-widgets/base",
          "model_name": "LayoutModel",
          "state": {
            "_view_name": "LayoutView",
            "grid_template_rows": null,
            "right": null,
            "justify_content": null,
            "_view_module": "@jupyter-widgets/base",
            "overflow": null,
            "_model_module_version": "1.2.0",
            "_view_count": null,
            "flex_flow": null,
            "width": null,
            "min_width": null,
            "border": null,
            "align_items": null,
            "bottom": null,
            "_model_module": "@jupyter-widgets/base",
            "top": null,
            "grid_column": null,
            "overflow_y": null,
            "overflow_x": null,
            "grid_auto_flow": null,
            "grid_area": null,
            "grid_template_columns": null,
            "flex": null,
            "_model_name": "LayoutModel",
            "justify_items": null,
            "grid_row": null,
            "max_height": null,
            "align_content": null,
            "visibility": null,
            "align_self": null,
            "height": null,
            "min_height": null,
            "padding": null,
            "grid_auto_rows": null,
            "grid_gap": null,
            "max_width": null,
            "order": null,
            "_view_module_version": "1.2.0",
            "grid_template_areas": null,
            "object_position": null,
            "object_fit": null,
            "grid_auto_columns": null,
            "margin": null,
            "display": null,
            "left": null
          }
        },
        "af62ebe7fad741c1917a9e9d3a55abda": {
          "model_module": "@jupyter-widgets/controls",
          "model_name": "HBoxModel",
          "state": {
            "_view_name": "HBoxView",
            "_dom_classes": [],
            "_model_name": "HBoxModel",
            "_view_module": "@jupyter-widgets/controls",
            "_model_module_version": "1.5.0",
            "_view_count": null,
            "_view_module_version": "1.5.0",
            "box_style": "",
            "layout": "IPY_MODEL_b4cfcc2c46da4e0385d3c332f66334ac",
            "_model_module": "@jupyter-widgets/controls",
            "children": [
              "IPY_MODEL_19bbcbfb31154635b6e3f7a7e687a475",
              "IPY_MODEL_5100f69ad84f49848fd27e87e5dd15f3"
            ]
          }
        },
        "b4cfcc2c46da4e0385d3c332f66334ac": {
          "model_module": "@jupyter-widgets/base",
          "model_name": "LayoutModel",
          "state": {
            "_view_name": "LayoutView",
            "grid_template_rows": null,
            "right": null,
            "justify_content": null,
            "_view_module": "@jupyter-widgets/base",
            "overflow": null,
            "_model_module_version": "1.2.0",
            "_view_count": null,
            "flex_flow": null,
            "width": null,
            "min_width": null,
            "border": null,
            "align_items": null,
            "bottom": null,
            "_model_module": "@jupyter-widgets/base",
            "top": null,
            "grid_column": null,
            "overflow_y": null,
            "overflow_x": null,
            "grid_auto_flow": null,
            "grid_area": null,
            "grid_template_columns": null,
            "flex": null,
            "_model_name": "LayoutModel",
            "justify_items": null,
            "grid_row": null,
            "max_height": null,
            "align_content": null,
            "visibility": null,
            "align_self": null,
            "height": null,
            "min_height": null,
            "padding": null,
            "grid_auto_rows": null,
            "grid_gap": null,
            "max_width": null,
            "order": null,
            "_view_module_version": "1.2.0",
            "grid_template_areas": null,
            "object_position": null,
            "object_fit": null,
            "grid_auto_columns": null,
            "margin": null,
            "display": null,
            "left": null
          }
        },
        "19bbcbfb31154635b6e3f7a7e687a475": {
          "model_module": "@jupyter-widgets/controls",
          "model_name": "FloatProgressModel",
          "state": {
            "_view_name": "ProgressView",
            "style": "IPY_MODEL_2d8e6f813a2244c9ad2fd5961535ae12",
            "_dom_classes": [],
            "description": "",
            "_model_name": "FloatProgressModel",
            "bar_style": "success",
            "max": 1,
            "_view_module": "@jupyter-widgets/controls",
            "_model_module_version": "1.5.0",
            "value": 1,
            "_view_count": null,
            "_view_module_version": "1.5.0",
            "orientation": "horizontal",
            "min": 0,
            "description_tooltip": null,
            "_model_module": "@jupyter-widgets/controls",
            "layout": "IPY_MODEL_fe99fe35d1b14220abb487ec53f6dc50"
          }
        },
        "5100f69ad84f49848fd27e87e5dd15f3": {
          "model_module": "@jupyter-widgets/controls",
          "model_name": "HTMLModel",
          "state": {
            "_view_name": "HTMLView",
            "style": "IPY_MODEL_0814005dd27848028ef7ddd1025b5425",
            "_dom_classes": [],
            "description": "",
            "_model_name": "HTMLModel",
            "placeholder": "​",
            "_view_module": "@jupyter-widgets/controls",
            "_model_module_version": "1.5.0",
            "value": " 4423680/? [00:02&lt;00:00, 1978541.19it/s]",
            "_view_count": null,
            "_view_module_version": "1.5.0",
            "description_tooltip": null,
            "_model_module": "@jupyter-widgets/controls",
            "layout": "IPY_MODEL_b8c146fdcfa44df891033b84a82febaa"
          }
        },
        "2d8e6f813a2244c9ad2fd5961535ae12": {
          "model_module": "@jupyter-widgets/controls",
          "model_name": "ProgressStyleModel",
          "state": {
            "_view_name": "StyleView",
            "_model_name": "ProgressStyleModel",
            "description_width": "initial",
            "_view_module": "@jupyter-widgets/base",
            "_model_module_version": "1.5.0",
            "_view_count": null,
            "_view_module_version": "1.2.0",
            "bar_color": null,
            "_model_module": "@jupyter-widgets/controls"
          }
        },
        "fe99fe35d1b14220abb487ec53f6dc50": {
          "model_module": "@jupyter-widgets/base",
          "model_name": "LayoutModel",
          "state": {
            "_view_name": "LayoutView",
            "grid_template_rows": null,
            "right": null,
            "justify_content": null,
            "_view_module": "@jupyter-widgets/base",
            "overflow": null,
            "_model_module_version": "1.2.0",
            "_view_count": null,
            "flex_flow": null,
            "width": null,
            "min_width": null,
            "border": null,
            "align_items": null,
            "bottom": null,
            "_model_module": "@jupyter-widgets/base",
            "top": null,
            "grid_column": null,
            "overflow_y": null,
            "overflow_x": null,
            "grid_auto_flow": null,
            "grid_area": null,
            "grid_template_columns": null,
            "flex": null,
            "_model_name": "LayoutModel",
            "justify_items": null,
            "grid_row": null,
            "max_height": null,
            "align_content": null,
            "visibility": null,
            "align_self": null,
            "height": null,
            "min_height": null,
            "padding": null,
            "grid_auto_rows": null,
            "grid_gap": null,
            "max_width": null,
            "order": null,
            "_view_module_version": "1.2.0",
            "grid_template_areas": null,
            "object_position": null,
            "object_fit": null,
            "grid_auto_columns": null,
            "margin": null,
            "display": null,
            "left": null
          }
        },
        "0814005dd27848028ef7ddd1025b5425": {
          "model_module": "@jupyter-widgets/controls",
          "model_name": "DescriptionStyleModel",
          "state": {
            "_view_name": "StyleView",
            "_model_name": "DescriptionStyleModel",
            "description_width": "",
            "_view_module": "@jupyter-widgets/base",
            "_model_module_version": "1.5.0",
            "_view_count": null,
            "_view_module_version": "1.2.0",
            "_model_module": "@jupyter-widgets/controls"
          }
        },
        "b8c146fdcfa44df891033b84a82febaa": {
          "model_module": "@jupyter-widgets/base",
          "model_name": "LayoutModel",
          "state": {
            "_view_name": "LayoutView",
            "grid_template_rows": null,
            "right": null,
            "justify_content": null,
            "_view_module": "@jupyter-widgets/base",
            "overflow": null,
            "_model_module_version": "1.2.0",
            "_view_count": null,
            "flex_flow": null,
            "width": null,
            "min_width": null,
            "border": null,
            "align_items": null,
            "bottom": null,
            "_model_module": "@jupyter-widgets/base",
            "top": null,
            "grid_column": null,
            "overflow_y": null,
            "overflow_x": null,
            "grid_auto_flow": null,
            "grid_area": null,
            "grid_template_columns": null,
            "flex": null,
            "_model_name": "LayoutModel",
            "justify_items": null,
            "grid_row": null,
            "max_height": null,
            "align_content": null,
            "visibility": null,
            "align_self": null,
            "height": null,
            "min_height": null,
            "padding": null,
            "grid_auto_rows": null,
            "grid_gap": null,
            "max_width": null,
            "order": null,
            "_view_module_version": "1.2.0",
            "grid_template_areas": null,
            "object_position": null,
            "object_fit": null,
            "grid_auto_columns": null,
            "margin": null,
            "display": null,
            "left": null
          }
        },
        "fe2b41d24359442b8ef428b8a042b9bf": {
          "model_module": "@jupyter-widgets/controls",
          "model_name": "HBoxModel",
          "state": {
            "_view_name": "HBoxView",
            "_dom_classes": [],
            "_model_name": "HBoxModel",
            "_view_module": "@jupyter-widgets/controls",
            "_model_module_version": "1.5.0",
            "_view_count": null,
            "_view_module_version": "1.5.0",
            "box_style": "",
            "layout": "IPY_MODEL_0035d5eddc0c499cbfc1f2ace795efbf",
            "_model_module": "@jupyter-widgets/controls",
            "children": [
              "IPY_MODEL_93980f1b0f5640bb92a2f9dc7d82e098",
              "IPY_MODEL_eba4a8d78fd945e2b6602a1afaa5e7db"
            ]
          }
        },
        "0035d5eddc0c499cbfc1f2ace795efbf": {
          "model_module": "@jupyter-widgets/base",
          "model_name": "LayoutModel",
          "state": {
            "_view_name": "LayoutView",
            "grid_template_rows": null,
            "right": null,
            "justify_content": null,
            "_view_module": "@jupyter-widgets/base",
            "overflow": null,
            "_model_module_version": "1.2.0",
            "_view_count": null,
            "flex_flow": null,
            "width": null,
            "min_width": null,
            "border": null,
            "align_items": null,
            "bottom": null,
            "_model_module": "@jupyter-widgets/base",
            "top": null,
            "grid_column": null,
            "overflow_y": null,
            "overflow_x": null,
            "grid_auto_flow": null,
            "grid_area": null,
            "grid_template_columns": null,
            "flex": null,
            "_model_name": "LayoutModel",
            "justify_items": null,
            "grid_row": null,
            "max_height": null,
            "align_content": null,
            "visibility": null,
            "align_self": null,
            "height": null,
            "min_height": null,
            "padding": null,
            "grid_auto_rows": null,
            "grid_gap": null,
            "max_width": null,
            "order": null,
            "_view_module_version": "1.2.0",
            "grid_template_areas": null,
            "object_position": null,
            "object_fit": null,
            "grid_auto_columns": null,
            "margin": null,
            "display": null,
            "left": null
          }
        },
        "93980f1b0f5640bb92a2f9dc7d82e098": {
          "model_module": "@jupyter-widgets/controls",
          "model_name": "FloatProgressModel",
          "state": {
            "_view_name": "ProgressView",
            "style": "IPY_MODEL_d4f30c0155be4533980e94571af4f949",
            "_dom_classes": [],
            "description": "",
            "_model_name": "FloatProgressModel",
            "bar_style": "success",
            "max": 1,
            "_view_module": "@jupyter-widgets/controls",
            "_model_module_version": "1.5.0",
            "value": 1,
            "_view_count": null,
            "_view_module_version": "1.5.0",
            "orientation": "horizontal",
            "min": 0,
            "description_tooltip": null,
            "_model_module": "@jupyter-widgets/controls",
            "layout": "IPY_MODEL_9154995dba2947b6982321f133e9bffb"
          }
        },
        "eba4a8d78fd945e2b6602a1afaa5e7db": {
          "model_module": "@jupyter-widgets/controls",
          "model_name": "HTMLModel",
          "state": {
            "_view_name": "HTMLView",
            "style": "IPY_MODEL_056cf94b31414fb3a0cfc87bd7eaa374",
            "_dom_classes": [],
            "description": "",
            "_model_name": "HTMLModel",
            "placeholder": "​",
            "_view_module": "@jupyter-widgets/controls",
            "_model_module_version": "1.5.0",
            "value": " 8192/? [00:00&lt;00:00, 11759.80it/s]",
            "_view_count": null,
            "_view_module_version": "1.5.0",
            "description_tooltip": null,
            "_model_module": "@jupyter-widgets/controls",
            "layout": "IPY_MODEL_e4af5c0fb018437dbd605d33f0227d02"
          }
        },
        "d4f30c0155be4533980e94571af4f949": {
          "model_module": "@jupyter-widgets/controls",
          "model_name": "ProgressStyleModel",
          "state": {
            "_view_name": "StyleView",
            "_model_name": "ProgressStyleModel",
            "description_width": "initial",
            "_view_module": "@jupyter-widgets/base",
            "_model_module_version": "1.5.0",
            "_view_count": null,
            "_view_module_version": "1.2.0",
            "bar_color": null,
            "_model_module": "@jupyter-widgets/controls"
          }
        },
        "9154995dba2947b6982321f133e9bffb": {
          "model_module": "@jupyter-widgets/base",
          "model_name": "LayoutModel",
          "state": {
            "_view_name": "LayoutView",
            "grid_template_rows": null,
            "right": null,
            "justify_content": null,
            "_view_module": "@jupyter-widgets/base",
            "overflow": null,
            "_model_module_version": "1.2.0",
            "_view_count": null,
            "flex_flow": null,
            "width": null,
            "min_width": null,
            "border": null,
            "align_items": null,
            "bottom": null,
            "_model_module": "@jupyter-widgets/base",
            "top": null,
            "grid_column": null,
            "overflow_y": null,
            "overflow_x": null,
            "grid_auto_flow": null,
            "grid_area": null,
            "grid_template_columns": null,
            "flex": null,
            "_model_name": "LayoutModel",
            "justify_items": null,
            "grid_row": null,
            "max_height": null,
            "align_content": null,
            "visibility": null,
            "align_self": null,
            "height": null,
            "min_height": null,
            "padding": null,
            "grid_auto_rows": null,
            "grid_gap": null,
            "max_width": null,
            "order": null,
            "_view_module_version": "1.2.0",
            "grid_template_areas": null,
            "object_position": null,
            "object_fit": null,
            "grid_auto_columns": null,
            "margin": null,
            "display": null,
            "left": null
          }
        },
        "056cf94b31414fb3a0cfc87bd7eaa374": {
          "model_module": "@jupyter-widgets/controls",
          "model_name": "DescriptionStyleModel",
          "state": {
            "_view_name": "StyleView",
            "_model_name": "DescriptionStyleModel",
            "description_width": "",
            "_view_module": "@jupyter-widgets/base",
            "_model_module_version": "1.5.0",
            "_view_count": null,
            "_view_module_version": "1.2.0",
            "_model_module": "@jupyter-widgets/controls"
          }
        },
        "e4af5c0fb018437dbd605d33f0227d02": {
          "model_module": "@jupyter-widgets/base",
          "model_name": "LayoutModel",
          "state": {
            "_view_name": "LayoutView",
            "grid_template_rows": null,
            "right": null,
            "justify_content": null,
            "_view_module": "@jupyter-widgets/base",
            "overflow": null,
            "_model_module_version": "1.2.0",
            "_view_count": null,
            "flex_flow": null,
            "width": null,
            "min_width": null,
            "border": null,
            "align_items": null,
            "bottom": null,
            "_model_module": "@jupyter-widgets/base",
            "top": null,
            "grid_column": null,
            "overflow_y": null,
            "overflow_x": null,
            "grid_auto_flow": null,
            "grid_area": null,
            "grid_template_columns": null,
            "flex": null,
            "_model_name": "LayoutModel",
            "justify_items": null,
            "grid_row": null,
            "max_height": null,
            "align_content": null,
            "visibility": null,
            "align_self": null,
            "height": null,
            "min_height": null,
            "padding": null,
            "grid_auto_rows": null,
            "grid_gap": null,
            "max_width": null,
            "order": null,
            "_view_module_version": "1.2.0",
            "grid_template_areas": null,
            "object_position": null,
            "object_fit": null,
            "grid_auto_columns": null,
            "margin": null,
            "display": null,
            "left": null
          }
        },
        "a338b129a1b542e799ee5fe833f32f46": {
          "model_module": "@jupyter-widgets/controls",
          "model_name": "VBoxModel",
          "state": {
            "_view_name": "VBoxView",
            "_dom_classes": [],
            "_model_name": "VBoxModel",
            "_view_module": "@jupyter-widgets/controls",
            "_model_module_version": "1.5.0",
            "_view_count": null,
            "_view_module_version": "1.5.0",
            "box_style": "",
            "layout": "IPY_MODEL_53b159f1bc7448eb8b3ec9a1d92c4070",
            "_model_module": "@jupyter-widgets/controls",
            "children": [
              "IPY_MODEL_54f683cb8a2d4b0f96952ba60efe7835",
              "IPY_MODEL_5710e203ee0c4d74a5d2b379106b786f"
            ]
          }
        },
        "53b159f1bc7448eb8b3ec9a1d92c4070": {
          "model_module": "@jupyter-widgets/base",
          "model_name": "LayoutModel",
          "state": {
            "_view_name": "LayoutView",
            "grid_template_rows": null,
            "right": null,
            "justify_content": null,
            "_view_module": "@jupyter-widgets/base",
            "overflow": null,
            "_model_module_version": "1.2.0",
            "_view_count": null,
            "flex_flow": null,
            "width": null,
            "min_width": null,
            "border": null,
            "align_items": null,
            "bottom": null,
            "_model_module": "@jupyter-widgets/base",
            "top": null,
            "grid_column": null,
            "overflow_y": null,
            "overflow_x": null,
            "grid_auto_flow": null,
            "grid_area": null,
            "grid_template_columns": null,
            "flex": null,
            "_model_name": "LayoutModel",
            "justify_items": null,
            "grid_row": null,
            "max_height": null,
            "align_content": null,
            "visibility": null,
            "align_self": null,
            "height": null,
            "min_height": null,
            "padding": null,
            "grid_auto_rows": null,
            "grid_gap": null,
            "max_width": null,
            "order": null,
            "_view_module_version": "1.2.0",
            "grid_template_areas": null,
            "object_position": null,
            "object_fit": null,
            "grid_auto_columns": null,
            "margin": null,
            "display": null,
            "left": null
          }
        },
        "54f683cb8a2d4b0f96952ba60efe7835": {
          "model_module": "@jupyter-widgets/controls",
          "model_name": "LabelModel",
          "state": {
            "_view_name": "LabelView",
            "style": "IPY_MODEL_b7b64b1c957349b5b7218aa843e934ad",
            "_dom_classes": [],
            "description": "",
            "_model_name": "LabelModel",
            "placeholder": "​",
            "_view_module": "@jupyter-widgets/controls",
            "_model_module_version": "1.5.0",
            "value": " 0.04MB of 0.04MB uploaded (0.00MB deduped)\r",
            "_view_count": null,
            "_view_module_version": "1.5.0",
            "description_tooltip": null,
            "_model_module": "@jupyter-widgets/controls",
            "layout": "IPY_MODEL_a9d5d8c8ac0b465497a88672d2390fe0"
          }
        },
        "5710e203ee0c4d74a5d2b379106b786f": {
          "model_module": "@jupyter-widgets/controls",
          "model_name": "FloatProgressModel",
          "state": {
            "_view_name": "ProgressView",
            "style": "IPY_MODEL_f5297f09e079419e91516d849858faed",
            "_dom_classes": [],
            "description": "",
            "_model_name": "FloatProgressModel",
            "bar_style": "",
            "max": 1,
            "_view_module": "@jupyter-widgets/controls",
            "_model_module_version": "1.5.0",
            "value": 1,
            "_view_count": null,
            "_view_module_version": "1.5.0",
            "orientation": "horizontal",
            "min": 0,
            "description_tooltip": null,
            "_model_module": "@jupyter-widgets/controls",
            "layout": "IPY_MODEL_552974328f2e48d683b0e5ff191be837"
          }
        },
        "b7b64b1c957349b5b7218aa843e934ad": {
          "model_module": "@jupyter-widgets/controls",
          "model_name": "DescriptionStyleModel",
          "state": {
            "_view_name": "StyleView",
            "_model_name": "DescriptionStyleModel",
            "description_width": "",
            "_view_module": "@jupyter-widgets/base",
            "_model_module_version": "1.5.0",
            "_view_count": null,
            "_view_module_version": "1.2.0",
            "_model_module": "@jupyter-widgets/controls"
          }
        },
        "a9d5d8c8ac0b465497a88672d2390fe0": {
          "model_module": "@jupyter-widgets/base",
          "model_name": "LayoutModel",
          "state": {
            "_view_name": "LayoutView",
            "grid_template_rows": null,
            "right": null,
            "justify_content": null,
            "_view_module": "@jupyter-widgets/base",
            "overflow": null,
            "_model_module_version": "1.2.0",
            "_view_count": null,
            "flex_flow": null,
            "width": null,
            "min_width": null,
            "border": null,
            "align_items": null,
            "bottom": null,
            "_model_module": "@jupyter-widgets/base",
            "top": null,
            "grid_column": null,
            "overflow_y": null,
            "overflow_x": null,
            "grid_auto_flow": null,
            "grid_area": null,
            "grid_template_columns": null,
            "flex": null,
            "_model_name": "LayoutModel",
            "justify_items": null,
            "grid_row": null,
            "max_height": null,
            "align_content": null,
            "visibility": null,
            "align_self": null,
            "height": null,
            "min_height": null,
            "padding": null,
            "grid_auto_rows": null,
            "grid_gap": null,
            "max_width": null,
            "order": null,
            "_view_module_version": "1.2.0",
            "grid_template_areas": null,
            "object_position": null,
            "object_fit": null,
            "grid_auto_columns": null,
            "margin": null,
            "display": null,
            "left": null
          }
        },
        "f5297f09e079419e91516d849858faed": {
          "model_module": "@jupyter-widgets/controls",
          "model_name": "ProgressStyleModel",
          "state": {
            "_view_name": "StyleView",
            "_model_name": "ProgressStyleModel",
            "description_width": "",
            "_view_module": "@jupyter-widgets/base",
            "_model_module_version": "1.5.0",
            "_view_count": null,
            "_view_module_version": "1.2.0",
            "bar_color": null,
            "_model_module": "@jupyter-widgets/controls"
          }
        },
        "552974328f2e48d683b0e5ff191be837": {
          "model_module": "@jupyter-widgets/base",
          "model_name": "LayoutModel",
          "state": {
            "_view_name": "LayoutView",
            "grid_template_rows": null,
            "right": null,
            "justify_content": null,
            "_view_module": "@jupyter-widgets/base",
            "overflow": null,
            "_model_module_version": "1.2.0",
            "_view_count": null,
            "flex_flow": null,
            "width": null,
            "min_width": null,
            "border": null,
            "align_items": null,
            "bottom": null,
            "_model_module": "@jupyter-widgets/base",
            "top": null,
            "grid_column": null,
            "overflow_y": null,
            "overflow_x": null,
            "grid_auto_flow": null,
            "grid_area": null,
            "grid_template_columns": null,
            "flex": null,
            "_model_name": "LayoutModel",
            "justify_items": null,
            "grid_row": null,
            "max_height": null,
            "align_content": null,
            "visibility": null,
            "align_self": null,
            "height": null,
            "min_height": null,
            "padding": null,
            "grid_auto_rows": null,
            "grid_gap": null,
            "max_width": null,
            "order": null,
            "_view_module_version": "1.2.0",
            "grid_template_areas": null,
            "object_position": null,
            "object_fit": null,
            "grid_auto_columns": null,
            "margin": null,
            "display": null,
            "left": null
          }
        }
      }
    },
    "accelerator": "GPU"
  },
  "cells": [
    {
      "cell_type": "markdown",
      "metadata": {
        "id": "RMGdev1Faaii"
      },
      "source": [
        "**Author:** **Ritesh** **Chowdhry**\n",
        "## **Description**: \n",
        "In this notebook I have created a CNN Model for training Fashion_MNIST dataset. The dataset has been imported from datasets module in torchvision pytorch.  \n",
        " \n",
        "### Second cell:\n",
        "*   In the second cell I have written all the utility functions, model and training function. \n",
        "*   The training function also has the code for plotting loss and accuracy plots and early stopping (which requires validation == True in training function so, validation set is required for that).\n",
        "\n",
        "### Last cell:\n",
        "It has to code for testing the model on test dataset and plot confusion matrix.\n",
        "\n",
        "\n",
        "---\n",
        "\n",
        "\n",
        "### To do:\n",
        "\n",
        "\n",
        "1.   Experiment and prepare a literature of comparison in model performance for different hyperparamters.\n",
        ">> Optimizer (SGD and Adam)  \n",
        ">> Loss function (Cross entropy and MSE)  \n",
        ">> Learning rate \n",
        "\n",
        "\n",
        "\n",
        "\n",
        "2. Include validation for early stopping and prepare evidence that it stops at the right step.  \n",
        "\n",
        "\n",
        "\n",
        "\n",
        " \n",
        "  \n"
      ]
    },
    {
      "cell_type": "code",
      "metadata": {
        "id": "wM8GGKMNDf5T",
        "outputId": "ebe6ab76-8c50-4d4a-be05-39a3957f980f",
        "colab": {
          "base_uri": "https://localhost:8080/",
          "height": 256
        }
      },
      "source": [
        "#Importing the libraries\n",
        "\n",
        "import pandas as pd\n",
        "import numpy as np\n",
        "import shutil\n",
        "\n",
        "# Pytorch modules used in my code.\n",
        "\n",
        "import torch\n",
        "\n",
        "from torch import nn\n",
        "from torch.utils.data import DataLoader\n",
        "\n",
        "\n",
        "\n",
        "from torch.nn import Linear\n",
        "from torch.nn import ReLU\n",
        "from torch.nn import Conv2d\n",
        "\n",
        "from torchvision import transforms\n",
        "from torchvision import datasets\n",
        "\n",
        "# These modules are which I've used for results visulaization.\n",
        "from sklearn.metrics import confusion_matrix, classification_report, multilabel_confusion_matrix\n",
        "from sklearn.preprocessing import OneHotEncoder\n",
        "from sklearn.model_selection import train_test_split\n",
        "from matplotlib import pyplot as plt\n",
        "import time\n",
        "\n",
        "# This is just for interfacing the training progress.\n",
        "from tqdm.autonotebook import tqdm\n",
        "from google.colab import files\n",
        "try:\n",
        "  import wandb\n",
        "except:\n",
        "  # WandB – Install the W&B library\n",
        "  !pip install wandb -q\n",
        "  import wandb\n",
        "\n",
        "\n",
        "#Source: https://github.com/Bjarten/early-stopping-pytorch/blob/master/MNIST_Early_Stopping_example.ipynb\n",
        "try:\n",
        "  shutil.move(\"/content/early-stopping-pytorch/pytorchtools.py\",\"/content/pytorchtools.py\")\n",
        "  from pytorchtools import EarlyStopping\n",
        "except:\n",
        "  !git clone https://github.com/Bjarten/early-stopping-pytorch.git\n",
        "  shutil.move(\"/content/early-stopping-pytorch/pytorchtools.py\",\"/content/pytorchtools.py\")\n",
        "  from pytorchtools import EarlyStopping"
      ],
      "execution_count": 1,
      "outputs": [
        {
          "output_type": "stream",
          "text": [
            "\u001b[K     |████████████████████████████████| 1.7MB 4.7MB/s \n",
            "\u001b[K     |████████████████████████████████| 163kB 29.5MB/s \n",
            "\u001b[K     |████████████████████████████████| 122kB 30.2MB/s \n",
            "\u001b[K     |████████████████████████████████| 102kB 11.6MB/s \n",
            "\u001b[K     |████████████████████████████████| 102kB 11.3MB/s \n",
            "\u001b[K     |████████████████████████████████| 71kB 6.4MB/s \n",
            "\u001b[?25h  Building wheel for subprocess32 (setup.py) ... \u001b[?25l\u001b[?25hdone\n",
            "  Building wheel for watchdog (setup.py) ... \u001b[?25l\u001b[?25hdone\n",
            "  Building wheel for pathtools (setup.py) ... \u001b[?25l\u001b[?25hdone\n",
            "Cloning into 'early-stopping-pytorch'...\n",
            "remote: Enumerating objects: 92, done.\u001b[K\n",
            "remote: Total 92 (delta 0), reused 0 (delta 0), pack-reused 92\u001b[K\n",
            "Unpacking objects: 100% (92/92), done.\n"
          ],
          "name": "stdout"
        }
      ]
    },
    {
      "cell_type": "code",
      "metadata": {
        "id": "z7QehXfhDpfV"
      },
      "source": [
        "# This cell has all the utility functions, model and training function.\n",
        "\n",
        "# CNN_model used in this notebook.\n",
        "class network(nn.Module):\n",
        "  def __init__(self,dropout_flag,layers):\n",
        "    super(network, self).__init__()\n",
        "    self.layer1 = nn.Sequential(nn.Conv2d(1, 32, kernel_size=5, stride=1, padding=2),nn.ReLU(), nn.MaxPool2d(kernel_size=2, stride=2))\n",
        "    if(layers>1):\n",
        "      self.layer2 = nn.Sequential(nn.Conv2d(32, 64, kernel_size=5, stride=1, padding=2),nn.ReLU(),nn.MaxPool2d(kernel_size=2, stride=2))\n",
        "    if(dropout_flag == True):\n",
        "      self.drop_out = nn.Dropout(p=0.6)\n",
        "    if(layers>1):\n",
        "      self.fc1 = nn.Linear(7 * 7 * 64, 1000)\n",
        "    else:\n",
        "      self.fc1 = nn.Linear(14 * 14 * 32, 1000)\n",
        "    self.fc2 = nn.Linear(1000, 10)\n",
        "  def forward(self, x):\n",
        "    x = self.layer1(x)\n",
        "    if(layers>1):\n",
        "      x = self.layer2(x)\n",
        "    x = x.reshape(x.size(0), -1)\n",
        "    if(dropout_flag == True):\n",
        "      x = self.drop_out(x)\n",
        "    x = self.fc1(x)\n",
        "    x = self.fc2(x)\n",
        "    return x\n",
        "\n",
        "# Train the model\n",
        "def training(train_dataloader, model, learning_rate, num_epochs, patience_for_early_stopping, start_time = 0.0,loss_function = \"Cross Entropy\",optimizer_choice = \"SGD\",name_run_wandb = \"random_run\",\n",
        "             wandb_log_status = True, validation = False, validation_loader = None, plots = False):\n",
        "\n",
        "  log_train_loss = []\n",
        "  log_train_accuracy = []\n",
        "  log_valid_loss = []\n",
        "  log_valid_accuracy = []\n",
        "  epoch_plot_values = []\n",
        "  if torch.cuda.is_available():\n",
        "    device_available = torch.device(\"cuda\")  \n",
        "  else: \n",
        "      device_available = torch.device(\"cpu\")\n",
        "  print(device_available)\n",
        "\n",
        "  # initialize the early_stopping object\n",
        "  if(validation == True):\n",
        "    early_stopping = EarlyStopping(patience=patience_for_early_stopping, verbose=True)\n",
        "\n",
        "  onehot_encoder = OneHotEncoder(sparse=False)\n",
        "  # Loss and optimizer\n",
        "  if(loss_function == \"Cross Entropy\"):\n",
        "    criterion = nn.CrossEntropyLoss()\n",
        "  elif(loss_function == \"MSE\"):\n",
        "    criterion = nn.MSELoss()\n",
        "  \n",
        "  if(optimizer_choice == \"SGD\"):\n",
        "    optimizer = torch.optim.SGD(model.parameters(), lr=learning_rate, momentum=learning_rate/4)\n",
        "  elif(optimizer_choice == \"adam\"):\n",
        "    optimizer = torch.optim.Adam(model.parameters(), lr=learning_rate)\n",
        "  \n",
        "  model.train()\n",
        "\n",
        "  if(wandb_log_status == True):\n",
        "    wandb.watch(model, log=\"all\")\n",
        "    \n",
        "\n",
        "  for epoch in range(num_epochs):\n",
        "    train_mean_loss = 0\n",
        "    train_mean_acc = 0\n",
        "    rand_var = 0\n",
        "\n",
        "    temp_print = 0\n",
        "    \n",
        "    for i, (train_images, train_label) in enumerate(train_dataloader):\n",
        "      \"\"\"\n",
        "      rand_var += 1\n",
        "      if(rand_var == 10):\n",
        "        break\n",
        "      \"\"\"\n",
        "      # Run the forward pass\n",
        "      train_images = train_images.to(device_available)\n",
        "      train_label = train_label.to(device_available)\n",
        "      train_output = model(train_images)\n",
        "      loss = criterion(train_output, train_label)\n",
        "      train_mean_loss +=loss.item()\n",
        "\n",
        "      train_acc = calc_accuracy(train_output,train_label)\n",
        "      train_mean_acc += train_acc \n",
        "      temp_print += 1\n",
        "      # if(temp_print%20==0):\n",
        "      #   print(\"Accuracy for batch: \", train_acc)\n",
        "      \n",
        "      # Backprop and perform Adam optimisation\n",
        "      optimizer.zero_grad()\n",
        "      loss.backward()\n",
        "      optimizer.step()\n",
        "\n",
        "      if(validation == True):\n",
        "        with torch.no_grad():\n",
        "          valid_mean_loss = 0\n",
        "          valid_mean_acc = 0\n",
        "          for valid_input,valid_label in validation_loader:\n",
        "            valid_input = valid_input.to(device_available)\n",
        "            valid_label = valid_label.to(device_available)\n",
        "            valid_output = model(valid_input)\n",
        "            valid_loss = criterion(valid_output,valid_label)\n",
        "            valid_acc = calc_accuracy(valid_output,valid_label)\n",
        "            valid_mean_acc += valid_acc\n",
        "            valid_mean_loss += valid_loss.item() \n",
        "\n",
        "    log_train_loss.append((train_mean_loss/len(train_dataloader)))\n",
        "    log_train_accuracy.append((train_mean_acc/len(train_dataloader)))\n",
        "    if(validation == True):\n",
        "      log_valid_loss.append((valid_mean_loss/len(validation_loader)))\n",
        "      log_valid_accuracy.append((valid_mean_acc/len(validation_loader)))\n",
        "\n",
        "    epoch_plot_values.append(epoch)\n",
        "    \n",
        "    print(\"Epoch:\",epoch)\n",
        "    print(\"Training Loss:\",(train_mean_loss/len(train_dataloader)))\n",
        "    print(\"Training accuracy:\", (train_mean_acc/len(train_dataloader)), \"%\")\n",
        "    if(wandb_log_status == True):\n",
        "      wandb.log({\"Train Accuracy\": (train_mean_acc/len(train_dataloader)), \"Train Loss\": (train_mean_loss/len(train_dataloader))})\n",
        "\n",
        "    if(validation == True):\n",
        "      print(\"Validation loss:\", valid_mean_loss/len(validation_loader))\n",
        "      print(\"Valdation Accuracy:\", valid_mean_acc/len(validation_loader),\"%\")\n",
        "      if(wandb_log_status == True):\n",
        "        wandb.log({\"Valid Accuracy\": (valid_mean_acc/len(validation_loader)), \"Valid Loss\": (valid_mean_loss/len(validation_loader))})\n",
        "\n",
        "    print(\"*******************************************************\")\n",
        "\n",
        "\n",
        "    ############################ Early_stopping_condtion ############\n",
        "    if(validation == True): \n",
        "      early_stopping((valid_mean_loss/len(validation_loader)), model)\n",
        "        \n",
        "      if early_stopping.early_stop:\n",
        "          print(\"Early stopping\")\n",
        "          num_epochs = epoch\n",
        "          break\n",
        "\n",
        "      # if((valid_mean_acc/len(validation_loader)) == 100):\n",
        "      #   print(\"Validation accuracy reached 100%, stopping early.\")\n",
        "      #   break\n",
        "      # elif(len(log_valid_loss)>20):\n",
        "      #   if(log_valid_loss[-20]<(sum(log_valid_loss[-20:])/20)):\n",
        "      #     print(sum(log_valid_loss[-20:])/20)\n",
        "      #     print(\"Validation loss started to increase, stopping early.\")\n",
        "      #     break\n",
        "\n",
        "  if(plots == True):\n",
        "\n",
        "    end_time = time.time()\n",
        "    plot_x_limit = num_epochs - (1+num_epochs/10)\n",
        "    # plot_x_limit = num_epochs \n",
        "    learning_rate_str = \"Learning rate: \" + str(learning_rate)\n",
        "    loss_str = \"Loss: \" + str(loss_function)\n",
        "    optimizer_str = \"Optimizer: \" + str(optimizer_choice)\n",
        "    time_elapsed = \"Training Time: \"+str(round((end_time - start_time)/60,2)) + \" min\"\n",
        "\n",
        "    ax1, ax2 = plot_function(epoch_plot_values,log_train_accuracy, log_train_loss, log_valid_loss, log_valid_accuracy, plot_x_limit, learning_rate_str, loss_str, optimizer_str, time_elapsed, validation)\n",
        "    plt.show()\n",
        "\n",
        "    train_loss_plot_name_run = \"loss_plot\"+ name_run_wandb + \".png\"\n",
        "    train_accuracy_plot_name_run = \"accu_plot\" + name_run_wandb + \".png\"\n",
        "    ax1.figure.savefig(train_loss_plot_name_run)\n",
        "    ax2.figure.savefig(train_accuracy_plot_name_run)\n",
        "    files.download(train_loss_plot_name_run)\n",
        "    files.download(train_accuracy_plot_name_run)\n",
        "    \n",
        "def plot_function(epoch_plot_values,log_train_accuracy, log_train_loss, log_valid_loss, log_valid_accuracy, plot_x_limit, \n",
        "                  learning_rate_str, loss_str, optimizer_str, time_elapsed, validation):\n",
        "\n",
        "  f1 = plt.figure(1)\n",
        "  ax1 = f1.add_subplot(111)\n",
        "\n",
        "  accuracy_graph_scale = (max(log_train_accuracy) - min(log_train_accuracy))/10\n",
        "  y_for_accuracy_graph = min(log_train_accuracy)\n",
        "\n",
        "  loss_graph_scale = (max(log_train_loss) - min(log_train_loss))/10\n",
        "  y_for_loss_graph = min(log_train_loss)\n",
        "  \n",
        "  f2 = plt.figure(2)\n",
        "  ax2 = f2.add_subplot(111)\n",
        "\n",
        "  ax1.plot(epoch_plot_values,log_train_loss, '-b', label = 'Train loss')\n",
        "  if(validation == True):\n",
        "    ax1.plot(epoch_plot_values,log_valid_loss, '-r', label = 'Validation loss')\n",
        "    ax1_title = \"Train and Validation losses\"\n",
        "    ax1.set_title(ax1_title)\n",
        "  else:\n",
        "    ax1_title = \"Train loss\"\n",
        "    ax1.set_title(ax1_title)\n",
        "  ax1.set_xlabel(\"Epochs\")\n",
        "  ax1.set_ylabel(\"Loss\")\n",
        "  ax1.text(plot_x_limit,y_for_loss_graph + 2 * loss_graph_scale, learning_rate_str, ha=\"center\", fontsize=10, bbox={\"facecolor\":\"white\", \"alpha\":0.5, \"pad\":5})\n",
        "  ax1.text(plot_x_limit,y_for_loss_graph + 3 * loss_graph_scale, loss_str, ha=\"center\", fontsize=10, bbox={\"facecolor\":\"white\", \"alpha\":0.5, \"pad\":5})\n",
        "  ax1.text(plot_x_limit,y_for_loss_graph + 4 * loss_graph_scale, optimizer_str, ha=\"center\", fontsize=10, bbox={\"facecolor\":\"white\", \"alpha\":0.5, \"pad\":5})\n",
        "  ax1.text(plot_x_limit,y_for_loss_graph + 5 * loss_graph_scale, time_elapsed, ha=\"center\", fontsize=10, bbox={\"facecolor\":\"white\", \"alpha\":0.5, \"pad\":5})\n",
        "  ax1.legend()\n",
        "\n",
        "\n",
        "  ax2.plot(epoch_plot_values,log_train_accuracy, '-b', label = 'Train Accuracy')\n",
        "\n",
        "\n",
        "  if(validation == True):\n",
        "    ax2.plot(epoch_plot_values,log_valid_accuracy, '-r', label = 'Validation Accuracy')\n",
        "    ax2_title = \"Train and Validation accuracy\"\n",
        "    ax2.set_title(ax2_title)\n",
        "  else:\n",
        "    ax2_title = \"Train accuracy\"\n",
        "    ax2.set_title(ax2_title)\n",
        "\n",
        "  ax2.set_xlabel(\"Epochs\")\n",
        "  ax2.set_ylabel(\"Accuracy\")\n",
        "\n",
        "  ax2.text(plot_x_limit,y_for_accuracy_graph, learning_rate_str, ha=\"center\", fontsize=10, bbox={\"facecolor\":\"white\", \"alpha\":0.5, \"pad\":5})\n",
        "  ax2.text(plot_x_limit,y_for_accuracy_graph + accuracy_graph_scale, loss_str, ha=\"center\", fontsize=10, bbox={\"facecolor\":\"white\", \"alpha\":0.5, \"pad\":5})\n",
        "  ax2.text(plot_x_limit,y_for_accuracy_graph + 2 * accuracy_graph_scale, optimizer_str, ha=\"center\", fontsize=10, bbox={\"facecolor\":\"white\", \"alpha\":0.5, \"pad\":5})\n",
        "  ax2.text(plot_x_limit,y_for_accuracy_graph + 3 * accuracy_graph_scale, time_elapsed, ha=\"center\", fontsize=10, bbox={\"facecolor\":\"white\", \"alpha\":0.5, \"pad\":5})\n",
        "  ax2.legend()\n",
        "  return ax1, ax2\n",
        "\n",
        "\n",
        "def calc_accuracy(prediction_tensor, true_val_tensor):\n",
        "  # This function is just to calculate the accuracy given the prediction and the true value of a batch of data.\n",
        "  prediction_tensor = torch.log_softmax(prediction_tensor, dim = 1)\n",
        "  _, max_idx = torch.max(prediction_tensor, dim = 1)\n",
        "\n",
        "  true_val = true_val_tensor.tolist()\n",
        "  predicted_val = max_idx.cpu().numpy()\n",
        "\n",
        "  correct_count = 0\n",
        "  for i in range(len(true_val)):\n",
        "      \n",
        "      if(predicted_val[i]==true_val[i]):\n",
        "          correct_count += 1\n",
        "\n",
        "  accuracy = (correct_count / len(true_val))*100 \n",
        "  return accuracy\n",
        "  \n",
        "\n",
        "\n",
        "def confusion_matrix_plot(c_matrix, classes, title = \"Confusion Matrix\", bg_color = \"silver\", name_run_wandb = \"random_run\"):\n",
        "  # This function if for plotting the confusion matrix.\n",
        "      \n",
        "  c_map=plt.cm.Greys\n",
        "  plt.imshow(c_matrix, interpolation='nearest', cmap=c_map)\n",
        "\n",
        "  plt.gcf().set_facecolor(bg_color)\n",
        "  plt.title(title)\n",
        "\n",
        "  axes = np.arange(len(classes))\n",
        "\n",
        "  plt.xticks(axes, classes, rotation=45)\n",
        "  plt.yticks(axes, classes)\n",
        "\n",
        "  plt.ylabel(' True Image Label')\n",
        "  plt.xlabel('\\n Predicted Label')\n",
        "\n",
        "  thresh = c_matrix.max() / 2.\n",
        "\n",
        "  for i in range((c_matrix.shape[0])):\n",
        "      for j in range((c_matrix.shape[1])):\n",
        "          if c_matrix[i, j] > thresh:\n",
        "              text_color = \"white\"  \n",
        "          else:\n",
        "              text_color = \"black\"\n",
        "          plt.text(j, i, c_matrix[i, j], horizontalalignment=\"center\", color = text_color)\n",
        "  \n",
        "  CM_name_run = \"CM_\"+ name_run_wandb + \".png\"\n",
        "  plt.savefig(CM_name_run, bbox_inches=\"tight\")\n",
        "  files.download(CM_name_run)\n",
        "  plt.show()\n",
        "\n",
        "def prediction(test_dataloader, model,wandb_log_status = True):\n",
        "  # This function is for predicting with help of the trained model.\n",
        "  correct_label = []\n",
        "  if torch.cuda.is_available():\n",
        "    device_available = torch.device(\"cuda\")  \n",
        "  else: \n",
        "      device_available = torch.device(\"cpu\")\n",
        "  print(device_available)\n",
        "  prediction_dataset = []\n",
        "  with torch.no_grad():\n",
        "    model.eval()\n",
        "    test_accuracy = 0\n",
        "    for i,(test_input,label) in enumerate(test_dataloader):\n",
        "      test_input = test_input.to(device_available)\n",
        "      label = label.to(device_available)\n",
        "      output = model(test_input)\n",
        "      accuracy = calc_accuracy(output,label)\n",
        "      test_accuracy += accuracy\n",
        "      output = torch.log_softmax(output, dim = 1)\n",
        "      _, max_idx = torch.max(output, dim = 1)\n",
        "      prediction_dataset.append(max_idx.cpu().numpy())\n",
        "      correct_label.append(label.tolist())\n",
        "          \n",
        "  prediction_dataset = [pred.squeeze().tolist() for pred in prediction_dataset]\n",
        "  # print(prediction_dataset)\n",
        "  # print(correct_label)\n",
        "  print(\"Accuracy: \",  (test_accuracy/len(test_dataloader)))\n",
        "  if(wandb_log_status == True):\n",
        "      wandb.log({\"Test Accuracy\": (test_accuracy/len(test_dataloader))})\n",
        "  return prediction_dataset, correct_label, (test_accuracy/len(test_dataloader))"
      ],
      "execution_count": 2,
      "outputs": []
    },
    {
      "cell_type": "code",
      "metadata": {
        "id": "83l-bGQ0S0Rd",
        "outputId": "0cfc0361-c5a6-4768-9eb5-71af5b4c994a",
        "colab": {
          "base_uri": "https://localhost:8080/",
          "height": 404,
          "referenced_widgets": [
            "ace5944660ad4de2a5809e57719b45a6",
            "892e5a8017384b43883db0a01a87f84f",
            "52acf2ec6306432486008a93013c414b",
            "8187632e36464b249578107458bf7939",
            "9ed85b08e3164b3e8d60d5beb2572b9a",
            "85593f4624ee42a1a77e69f95ff50a71",
            "b21d50fbcc8d4533a05eee26b0a45dcd",
            "621905fa9af647379c264a04b9fa6c88",
            "fdb429f7991e4dd38714d0e71bcc7543",
            "38f42c95a6fc419f83237361f1af5df9",
            "abaf7789653144a684970af2e6c6e63b",
            "6187826c1660497b8e278d2caa58e26d",
            "ed5cbebcc19b4bc0b594fc9064caf8bf",
            "36c4346cc5784c309b15996cbffcb22b",
            "a6d146b662c1431b90f62818dd2cbe3d",
            "787681cd2ca3446b843440240f10fca1",
            "af62ebe7fad741c1917a9e9d3a55abda",
            "b4cfcc2c46da4e0385d3c332f66334ac",
            "19bbcbfb31154635b6e3f7a7e687a475",
            "5100f69ad84f49848fd27e87e5dd15f3",
            "2d8e6f813a2244c9ad2fd5961535ae12",
            "fe99fe35d1b14220abb487ec53f6dc50",
            "0814005dd27848028ef7ddd1025b5425",
            "b8c146fdcfa44df891033b84a82febaa",
            "fe2b41d24359442b8ef428b8a042b9bf",
            "0035d5eddc0c499cbfc1f2ace795efbf",
            "93980f1b0f5640bb92a2f9dc7d82e098",
            "eba4a8d78fd945e2b6602a1afaa5e7db",
            "d4f30c0155be4533980e94571af4f949",
            "9154995dba2947b6982321f133e9bffb",
            "056cf94b31414fb3a0cfc87bd7eaa374",
            "e4af5c0fb018437dbd605d33f0227d02"
          ]
        }
      },
      "source": [
        "# transforms to apply to the data\n",
        "trans = transforms.Compose([transforms.ToTensor(), transforms.Normalize((0.5,), (0.5,))])\n",
        "\n",
        "path_data = \"/content\"\n",
        "validation_status = True\n",
        "\n",
        "# FashionMNIST dataset\n",
        "train_dataset = datasets.FashionMNIST(root=path_data, train=True, transform=trans, download=True)\n",
        "test_dataset = datasets.FashionMNIST(root=path_data, train=False, transform=trans, download=True)\n",
        "\n",
        "if(validation_status == True):\n",
        "  train_dataset, val_dataset = torch.utils.data.random_split(train_dataset, [50000, 10000])\n",
        "  # train_dataset, val_dataset= train_test_split(train_dataset, test_size=0.1, stratify = train_dataset)\n"
      ],
      "execution_count": 3,
      "outputs": [
        {
          "output_type": "stream",
          "text": [
            "Downloading http://fashion-mnist.s3-website.eu-central-1.amazonaws.com/train-images-idx3-ubyte.gz to /content/FashionMNIST/raw/train-images-idx3-ubyte.gz\n"
          ],
          "name": "stdout"
        },
        {
          "output_type": "display_data",
          "data": {
            "application/vnd.jupyter.widget-view+json": {
              "model_id": "ace5944660ad4de2a5809e57719b45a6",
              "version_minor": 0,
              "version_major": 2
            },
            "text/plain": [
              "HBox(children=(FloatProgress(value=1.0, bar_style='info', max=1.0), HTML(value='')))"
            ]
          },
          "metadata": {
            "tags": []
          }
        },
        {
          "output_type": "stream",
          "text": [
            "Extracting /content/FashionMNIST/raw/train-images-idx3-ubyte.gz to /content/FashionMNIST/raw\n",
            "Downloading http://fashion-mnist.s3-website.eu-central-1.amazonaws.com/train-labels-idx1-ubyte.gz to /content/FashionMNIST/raw/train-labels-idx1-ubyte.gz\n",
            "\n"
          ],
          "name": "stdout"
        },
        {
          "output_type": "display_data",
          "data": {
            "application/vnd.jupyter.widget-view+json": {
              "model_id": "fdb429f7991e4dd38714d0e71bcc7543",
              "version_minor": 0,
              "version_major": 2
            },
            "text/plain": [
              "HBox(children=(FloatProgress(value=1.0, bar_style='info', max=1.0), HTML(value='')))"
            ]
          },
          "metadata": {
            "tags": []
          }
        },
        {
          "output_type": "stream",
          "text": [
            "Extracting /content/FashionMNIST/raw/train-labels-idx1-ubyte.gz to /content/FashionMNIST/raw\n",
            "Downloading http://fashion-mnist.s3-website.eu-central-1.amazonaws.com/t10k-images-idx3-ubyte.gz to /content/FashionMNIST/raw/t10k-images-idx3-ubyte.gz\n"
          ],
          "name": "stdout"
        },
        {
          "output_type": "display_data",
          "data": {
            "application/vnd.jupyter.widget-view+json": {
              "model_id": "af62ebe7fad741c1917a9e9d3a55abda",
              "version_minor": 0,
              "version_major": 2
            },
            "text/plain": [
              "HBox(children=(FloatProgress(value=1.0, bar_style='info', max=1.0), HTML(value='')))"
            ]
          },
          "metadata": {
            "tags": []
          }
        },
        {
          "output_type": "stream",
          "text": [
            "Extracting /content/FashionMNIST/raw/t10k-images-idx3-ubyte.gz to /content/FashionMNIST/raw\n",
            "Downloading http://fashion-mnist.s3-website.eu-central-1.amazonaws.com/t10k-labels-idx1-ubyte.gz to /content/FashionMNIST/raw/t10k-labels-idx1-ubyte.gz\n"
          ],
          "name": "stdout"
        },
        {
          "output_type": "display_data",
          "data": {
            "application/vnd.jupyter.widget-view+json": {
              "model_id": "fe2b41d24359442b8ef428b8a042b9bf",
              "version_minor": 0,
              "version_major": 2
            },
            "text/plain": [
              "HBox(children=(FloatProgress(value=1.0, bar_style='info', max=1.0), HTML(value='')))"
            ]
          },
          "metadata": {
            "tags": []
          }
        },
        {
          "output_type": "stream",
          "text": [
            "Extracting /content/FashionMNIST/raw/t10k-labels-idx1-ubyte.gz to /content/FashionMNIST/raw\n",
            "Processing...\n",
            "Done!\n"
          ],
          "name": "stdout"
        },
        {
          "output_type": "stream",
          "text": [
            "/usr/local/lib/python3.6/dist-packages/torchvision/datasets/mnist.py:469: UserWarning: The given NumPy array is not writeable, and PyTorch does not support non-writeable tensors. This means you can write to the underlying (supposedly non-writeable) NumPy array using the tensor. You may want to copy the array to protect its data or make it writeable before converting it to a tensor. This type of warning will be suppressed for the rest of this program. (Triggered internally at  /pytorch/torch/csrc/utils/tensor_numpy.cpp:141.)\n",
            "  return torch.from_numpy(parsed.astype(m[2], copy=False)).view(*s)\n"
          ],
          "name": "stderr"
        }
      ]
    },
    {
      "cell_type": "code",
      "metadata": {
        "id": "o6uCMZ96VPDI",
        "outputId": "fec932a7-e59a-4cd7-abd0-cff41820fcbf",
        "colab": {
          "base_uri": "https://localhost:8080/",
          "height": 127
        }
      },
      "source": [
        "model_train_iteration = 0\n",
        "dropout_flag = False\n",
        "layers = 2\n",
        "\n",
        "if torch.cuda.is_available():\n",
        "    device_available = torch.device(\"cuda\")  \n",
        "else: \n",
        "    device_available = torch.device(\"cpu\")\n",
        "print(device_available)\n",
        "\n",
        "model = network(dropout_flag,layers)\n",
        "# Changing device to GPU if available.\n",
        "model = model.to(device_available)\n",
        "\n",
        "\n",
        "train_batch_size = 100\n",
        "valid_batch_size = 50\n",
        "test_batch_size = 50\n",
        "\n",
        "\n",
        "# train_dataset = my_dataset_class(train_set_name)\n",
        "train_loader = DataLoader(dataset=train_dataset, batch_size = train_batch_size, shuffle=True)\n",
        "print(\"Train Loader\", len(train_loader))\n",
        "\n",
        "if(validation_status == True):\n",
        "  val_loader = DataLoader(dataset=val_dataset, batch_size = valid_batch_size, shuffle=True)\n",
        "  print(\"Valid Loader\", len(val_loader))\n",
        "\n",
        "# test_dataset = my_dataset_class(\"test.csv\")\n",
        "test_loader = DataLoader(dataset=test_dataset, batch_size = test_batch_size, shuffle=False)\n",
        "print(\"Test Loader\", len(test_loader))"
      ],
      "execution_count": 4,
      "outputs": [
        {
          "output_type": "stream",
          "text": [
            "cuda\n",
            "\n",
            "\n",
            "Train Loader 500\n",
            "Valid Loader 200\n",
            "Test Loader 200\n"
          ],
          "name": "stdout"
        }
      ]
    },
    {
      "cell_type": "code",
      "metadata": {
        "id": "VK_6C_v5yjNz",
        "outputId": "5cca97db-87df-422f-ff43-f7b3827d2e18",
        "colab": {
          "base_uri": "https://localhost:8080/",
          "height": 35
        }
      },
      "source": [
        "#make sure data is balanced \n",
        "Dictionary_counts = {0:0, 1:0, 2:0, 3:0, 4:0, 5:0, 6:0, 7:0, 8:0, 9:0}\n",
        "total = 0\n",
        "for _,train_label in train_loader:\n",
        "  for i in train_label:\n",
        "      digit = int(i.numpy())\n",
        "      Dictionary_counts[digit] +=1\n",
        "      total +=1\n",
        "# for key in range(10):\n",
        "#     Dictionary_counts[key] = Dictionary_counts[key]/total\n",
        "print(Dictionary_counts)"
      ],
      "execution_count": 5,
      "outputs": [
        {
          "output_type": "stream",
          "text": [
            "{0: 4956, 1: 4977, 2: 5002, 3: 4975, 4: 5029, 5: 5048, 6: 5045, 7: 4985, 8: 4952, 9: 5031}\n"
          ],
          "name": "stdout"
        }
      ]
    },
    {
      "cell_type": "code",
      "metadata": {
        "id": "thzNTGKCWtU4",
        "outputId": "e0ce352c-4016-408c-c751-b7c59576aa7a",
        "colab": {
          "base_uri": "https://localhost:8080/",
          "height": 54
        }
      },
      "source": [
        "# Hyperparameters\n",
        "num_epochs = 30\n",
        "num_classes = 10\n",
        "batch_size = 100\n",
        "learning_rate = 0.0001\n",
        "patience_value = 6\n",
        "path_model_final_save = \"/content/\"\n",
        "\n",
        "if(dropout_flag == True):\n",
        "  dropout_str = \"drop0.6_\"\n",
        "else:\n",
        "  dropout_str = \"\"\n",
        "\n",
        "layers_str = str(layers)+\"_layer_\"\n",
        "\n",
        "loss_function_param = \"Cross Entropy\"\n",
        "optimizer_choice_param = \"adam\"\n",
        "\n",
        "if(loss_function_param == \"Cross Entropy\"):\n",
        "  wandb_loss_str = \"CE\" + \"_\"\n",
        "else: \n",
        "  wandb_loss_str = str(loss_function_param) + \"_\"\n",
        "\n",
        "wandb_optimizer_str = str(optimizer_choice_param) + \"_\"\n",
        "wandb_learning_rate_str = str(learning_rate)\n",
        "# wandb_epoch = \"_ep:\" + str(num_epochs)\n",
        "\n",
        "wandb_run_name = layers_str + dropout_str + wandb_loss_str + wandb_optimizer_str + wandb_learning_rate_str \n",
        "print(\"Name according to config:\",wandb_run_name)\n",
        "\n",
        "\n",
        "\n",
        "wandb_run_name = \"Adam_final\"\n",
        "\n",
        "print(\"Updated name: \",wandb_run_name)\n"
      ],
      "execution_count": 6,
      "outputs": [
        {
          "output_type": "stream",
          "text": [
            "Name according to config: 2_layer_CE_adam_0.0001\n",
            "Updated name:  Adam_final\n"
          ],
          "name": "stdout"
        }
      ]
    },
    {
      "cell_type": "code",
      "metadata": {
        "id": "7oFk0bZkJ4CX",
        "outputId": "002212a9-bf8b-401d-e904-f44336a74933",
        "colab": {
          "base_uri": "https://localhost:8080/",
          "height": 159
        }
      },
      "source": [
        "flag_wandb_log_status = True\n",
        "# WandB – Login to your wandb account so you can log all your metrics\n",
        "if(flag_wandb_log_status == True):\n",
        "  !wandb login f2f1f4df7b1e6956f86b9a5ae53189dbf6704280\n",
        "  #API Key: f2f1f4df7b1e6956f86b9a5ae53189dbf6704280\n",
        "  run_object = wandb.init(name = wandb_run_name,project=\"project_nn_dl\")\n"
      ],
      "execution_count": 7,
      "outputs": [
        {
          "output_type": "stream",
          "text": [
            "\u001b[34m\u001b[1mwandb\u001b[0m: Appending key for api.wandb.ai to your netrc file: /root/.netrc\n"
          ],
          "name": "stdout"
        },
        {
          "output_type": "stream",
          "text": [
            "\u001b[34m\u001b[1mwandb\u001b[0m: Currently logged in as: \u001b[33mriteshchowdhry\u001b[0m (use `wandb login --relogin` to force relogin)\n"
          ],
          "name": "stderr"
        },
        {
          "output_type": "display_data",
          "data": {
            "text/html": [
              "\n",
              "                Tracking run with wandb version 0.10.8<br/>\n",
              "                Syncing run <strong style=\"color:#cdcd00\">Adam_final</strong> to <a href=\"https://wandb.ai\" target=\"_blank\">Weights & Biases</a> <a href=\"https://docs.wandb.com/integrations/jupyter.html\" target=\"_blank\">(Documentation)</a>.<br/>\n",
              "                Project page: <a href=\"https://wandb.ai/riteshchowdhry/project_nn_dl\" target=\"_blank\">https://wandb.ai/riteshchowdhry/project_nn_dl</a><br/>\n",
              "                Run page: <a href=\"https://wandb.ai/riteshchowdhry/project_nn_dl/runs/2vdvrk8i\" target=\"_blank\">https://wandb.ai/riteshchowdhry/project_nn_dl/runs/2vdvrk8i</a><br/>\n",
              "                Run data is saved locally in <code>wandb/run-20201030_062054-2vdvrk8i</code><br/><br/>\n",
              "            "
            ],
            "text/plain": [
              "<IPython.core.display.HTML object>"
            ]
          },
          "metadata": {
            "tags": []
          }
        }
      ]
    },
    {
      "cell_type": "code",
      "metadata": {
        "id": "NL9qP3QWXLXU",
        "outputId": "069781cf-53d6-4787-f7a8-0e779e13a8db",
        "colab": {
          "base_uri": "https://localhost:8080/",
          "height": 1000
        }
      },
      "source": [
        "\n",
        "begin_time = time.time()\n",
        "training(train_loader,model, learning_rate, num_epochs, patience_for_early_stopping = patience_value,start_time = begin_time, loss_function = loss_function_param ,\n",
        "         optimizer_choice = optimizer_choice_param, validation = validation_status, validation_loader = val_loader, \n",
        "         name_run_wandb = wandb_run_name,wandb_log_status=flag_wandb_log_status, plots = True)\n",
        "end_time = time.time()\n",
        "print(\"Time elapsed: \",(end_time-begin_time)/60,\" minutes\")\n",
        "model_train_iteration += 1 \n",
        "# Save the model and plot\n",
        "model_save_name = \"Trained_model\" +\"_lr:\"+str(learning_rate)+\"_epochs:\"+str(num_epochs) +\"_\"+ str(model_train_iteration)\n",
        "torch.save(model.state_dict(), path_model_final_save + model_save_name)\n",
        "\n"
      ],
      "execution_count": 8,
      "outputs": [
        {
          "output_type": "stream",
          "text": [
            "cuda\n",
            "Epoch: 0\n",
            "Training Loss: 0.5956880419850349\n",
            "Training accuracy: 79.028 %\n",
            "Validation loss: 0.4219557123631239\n",
            "Valdation Accuracy: 85.49 %\n",
            "*******************************************************\n",
            "Validation loss decreased (inf --> 0.421956).  Saving model ...\n",
            "Epoch: 1\n",
            "Training Loss: 0.3844985328614712\n",
            "Training accuracy: 86.426 %\n",
            "Validation loss: 0.3565004539489746\n",
            "Valdation Accuracy: 87.3 %\n",
            "*******************************************************\n",
            "Validation loss decreased (0.421956 --> 0.356500).  Saving model ...\n",
            "Epoch: 2\n",
            "Training Loss: 0.3326712548136711\n",
            "Training accuracy: 88.18 %\n",
            "Validation loss: 0.3234728676453233\n",
            "Valdation Accuracy: 88.4 %\n",
            "*******************************************************\n",
            "Validation loss decreased (0.356500 --> 0.323473).  Saving model ...\n",
            "Epoch: 3\n",
            "Training Loss: 0.30190714985132217\n",
            "Training accuracy: 89.11 %\n",
            "Validation loss: 0.3027938756719232\n",
            "Valdation Accuracy: 89.36 %\n",
            "*******************************************************\n",
            "Validation loss decreased (0.323473 --> 0.302794).  Saving model ...\n",
            "Epoch: 4\n",
            "Training Loss: 0.2806023397743702\n",
            "Training accuracy: 89.898 %\n",
            "Validation loss: 0.2847736635804176\n",
            "Valdation Accuracy: 90.14 %\n",
            "*******************************************************\n",
            "Validation loss decreased (0.302794 --> 0.284774).  Saving model ...\n",
            "Epoch: 5\n",
            "Training Loss: 0.26333191561698915\n",
            "Training accuracy: 90.46 %\n",
            "Validation loss: 0.27724136248230935\n",
            "Valdation Accuracy: 89.97 %\n",
            "*******************************************************\n",
            "Validation loss decreased (0.284774 --> 0.277241).  Saving model ...\n",
            "Epoch: 6\n",
            "Training Loss: 0.24770446075499059\n",
            "Training accuracy: 91.106 %\n",
            "Validation loss: 0.2931896172091365\n",
            "Valdation Accuracy: 89.74 %\n",
            "*******************************************************\n",
            "EarlyStopping counter: 1 out of 6\n",
            "Epoch: 7\n",
            "Training Loss: 0.23562227146327497\n",
            "Training accuracy: 91.536 %\n",
            "Validation loss: 0.286416260227561\n",
            "Valdation Accuracy: 89.67 %\n",
            "*******************************************************\n",
            "EarlyStopping counter: 2 out of 6\n",
            "Epoch: 8\n",
            "Training Loss: 0.2233270927965641\n",
            "Training accuracy: 91.924 %\n",
            "Validation loss: 0.26316661641001704\n",
            "Valdation Accuracy: 90.78 %\n",
            "*******************************************************\n",
            "Validation loss decreased (0.277241 --> 0.263167).  Saving model ...\n",
            "Epoch: 9\n",
            "Training Loss: 0.211640982195735\n",
            "Training accuracy: 92.306 %\n",
            "Validation loss: 0.26803786123171447\n",
            "Valdation Accuracy: 90.43 %\n",
            "*******************************************************\n",
            "EarlyStopping counter: 1 out of 6\n",
            "Epoch: 10\n",
            "Training Loss: 0.20037565356492995\n",
            "Training accuracy: 92.69 %\n",
            "Validation loss: 0.25493120644241574\n",
            "Valdation Accuracy: 90.92 %\n",
            "*******************************************************\n",
            "Validation loss decreased (0.263167 --> 0.254931).  Saving model ...\n",
            "Epoch: 11\n",
            "Training Loss: 0.18950840729475021\n",
            "Training accuracy: 93.156 %\n",
            "Validation loss: 0.2506181924790144\n",
            "Valdation Accuracy: 91.18 %\n",
            "*******************************************************\n",
            "Validation loss decreased (0.254931 --> 0.250618).  Saving model ...\n",
            "Epoch: 12\n",
            "Training Loss: 0.18024965542554855\n",
            "Training accuracy: 93.378 %\n",
            "Validation loss: 0.24453215351328253\n",
            "Valdation Accuracy: 91.45 %\n",
            "*******************************************************\n",
            "Validation loss decreased (0.250618 --> 0.244532).  Saving model ...\n",
            "Epoch: 13\n",
            "Training Loss: 0.17040444380044936\n",
            "Training accuracy: 93.726 %\n",
            "Validation loss: 0.24678340492770076\n",
            "Valdation Accuracy: 91.42 %\n",
            "*******************************************************\n",
            "EarlyStopping counter: 1 out of 6\n",
            "Epoch: 14\n",
            "Training Loss: 0.1625114857107401\n",
            "Training accuracy: 94.086 %\n",
            "Validation loss: 0.25209601609036325\n",
            "Valdation Accuracy: 91.07 %\n",
            "*******************************************************\n",
            "EarlyStopping counter: 2 out of 6\n",
            "Epoch: 15\n",
            "Training Loss: 0.15165261572599412\n",
            "Training accuracy: 94.576 %\n",
            "Validation loss: 0.23887077068910004\n",
            "Valdation Accuracy: 91.58 %\n",
            "*******************************************************\n",
            "Validation loss decreased (0.244532 --> 0.238871).  Saving model ...\n",
            "Epoch: 16\n",
            "Training Loss: 0.1456595933586359\n",
            "Training accuracy: 94.838 %\n",
            "Validation loss: 0.2463208943605423\n",
            "Valdation Accuracy: 91.47 %\n",
            "*******************************************************\n",
            "EarlyStopping counter: 1 out of 6\n",
            "Epoch: 17\n",
            "Training Loss: 0.13644441672414542\n",
            "Training accuracy: 95.068 %\n",
            "Validation loss: 0.24104017436504363\n",
            "Valdation Accuracy: 91.51 %\n",
            "*******************************************************\n",
            "EarlyStopping counter: 2 out of 6\n",
            "Epoch: 18\n",
            "Training Loss: 0.12910786237567662\n",
            "Training accuracy: 95.332 %\n",
            "Validation loss: 0.24263802155852318\n",
            "Valdation Accuracy: 91.66 %\n",
            "*******************************************************\n",
            "EarlyStopping counter: 3 out of 6\n",
            "Epoch: 19\n",
            "Training Loss: 0.12144305791333318\n",
            "Training accuracy: 95.678 %\n",
            "Validation loss: 0.2451902886200696\n",
            "Valdation Accuracy: 91.75 %\n",
            "*******************************************************\n",
            "EarlyStopping counter: 4 out of 6\n",
            "Epoch: 20\n",
            "Training Loss: 0.11417896999791265\n",
            "Training accuracy: 95.89 %\n",
            "Validation loss: 0.2582123566139489\n",
            "Valdation Accuracy: 91.8 %\n",
            "*******************************************************\n",
            "EarlyStopping counter: 5 out of 6\n",
            "Epoch: 21\n",
            "Training Loss: 0.10733764701336622\n",
            "Training accuracy: 96.212 %\n",
            "Validation loss: 0.2569700299762189\n",
            "Valdation Accuracy: 91.57 %\n",
            "*******************************************************\n",
            "EarlyStopping counter: 6 out of 6\n",
            "Early stopping\n"
          ],
          "name": "stdout"
        },
        {
          "output_type": "display_data",
          "data": {
            "image/png": "[encoded data removed]",
            "text/plain": [
              "<Figure size 432x288 with 1 Axes>"
            ]
          },
          "metadata": {
            "tags": [],
            "needs_background": "light"
          }
        },
        {
          "output_type": "display_data",
          "data": {
            "image/png": "[encoded data removed]",
            "text/plain": [
              "<Figure size 432x288 with 1 Axes>"
            ]
          },
          "metadata": {
            "tags": [],
            "needs_background": "light"
          }
        },
        {
          "output_type": "display_data",
          "data": {
            "application/javascript": [
              "\n",
              "    async function download(id, filename, size) {\n",
              "      if (!google.colab.kernel.accessAllowed) {\n",
              "        return;\n",
              "      }\n",
              "      const div = document.createElement('div');\n",
              "      const label = document.createElement('label');\n",
              "      label.textContent = `Downloading \"${filename}\": `;\n",
              "      div.appendChild(label);\n",
              "      const progress = document.createElement('progress');\n",
              "      progress.max = size;\n",
              "      div.appendChild(progress);\n",
              "      document.body.appendChild(div);\n",
              "\n",
              "      const buffers = [];\n",
              "      let downloaded = 0;\n",
              "\n",
              "      const channel = await google.colab.kernel.comms.open(id);\n",
              "      // Send a message to notify the kernel that we're ready.\n",
              "      channel.send({})\n",
              "\n",
              "      for await (const message of channel.messages) {\n",
              "        // Send a message to notify the kernel that we're ready.\n",
              "        channel.send({})\n",
              "        if (message.buffers) {\n",
              "          for (const buffer of message.buffers) {\n",
              "            buffers.push(buffer);\n",
              "            downloaded += buffer.byteLength;\n",
              "            progress.value = downloaded;\n",
              "          }\n",
              "        }\n",
              "      }\n",
              "      const blob = new Blob(buffers, {type: 'application/binary'});\n",
              "      const a = document.createElement('a');\n",
              "      a.href = window.URL.createObjectURL(blob);\n",
              "      a.download = filename;\n",
              "      div.appendChild(a);\n",
              "      a.click();\n",
              "      div.remove();\n",
              "    }\n",
              "  "
            ],
            "text/plain": [
              "<IPython.core.display.Javascript object>"
            ]
          },
          "metadata": {
            "tags": []
          }
        },
        {
          "output_type": "display_data",
          "data": {
            "application/javascript": [
              "download(\"download_4de9c425-c1fa-4516-9ef5-311012ba7d35\", \"loss_plotAdam_final.png\", 21909)"
            ],
            "text/plain": [
              "<IPython.core.display.Javascript object>"
            ]
          },
          "metadata": {
            "tags": []
          }
        },
        {
          "output_type": "display_data",
          "data": {
            "application/javascript": [
              "\n",
              "    async function download(id, filename, size) {\n",
              "      if (!google.colab.kernel.accessAllowed) {\n",
              "        return;\n",
              "      }\n",
              "      const div = document.createElement('div');\n",
              "      const label = document.createElement('label');\n",
              "      label.textContent = `Downloading \"${filename}\": `;\n",
              "      div.appendChild(label);\n",
              "      const progress = document.createElement('progress');\n",
              "      progress.max = size;\n",
              "      div.appendChild(progress);\n",
              "      document.body.appendChild(div);\n",
              "\n",
              "      const buffers = [];\n",
              "      let downloaded = 0;\n",
              "\n",
              "      const channel = await google.colab.kernel.comms.open(id);\n",
              "      // Send a message to notify the kernel that we're ready.\n",
              "      channel.send({})\n",
              "\n",
              "      for await (const message of channel.messages) {\n",
              "        // Send a message to notify the kernel that we're ready.\n",
              "        channel.send({})\n",
              "        if (message.buffers) {\n",
              "          for (const buffer of message.buffers) {\n",
              "            buffers.push(buffer);\n",
              "            downloaded += buffer.byteLength;\n",
              "            progress.value = downloaded;\n",
              "          }\n",
              "        }\n",
              "      }\n",
              "      const blob = new Blob(buffers, {type: 'application/binary'});\n",
              "      const a = document.createElement('a');\n",
              "      a.href = window.URL.createObjectURL(blob);\n",
              "      a.download = filename;\n",
              "      div.appendChild(a);\n",
              "      a.click();\n",
              "      div.remove();\n",
              "    }\n",
              "  "
            ],
            "text/plain": [
              "<IPython.core.display.Javascript object>"
            ]
          },
          "metadata": {
            "tags": []
          }
        },
        {
          "output_type": "display_data",
          "data": {
            "application/javascript": [
              "download(\"download_c6a51a60-976b-4684-b46a-e8e50be1d268\", \"accu_plotAdam_final.png\", 24486)"
            ],
            "text/plain": [
              "<IPython.core.display.Javascript object>"
            ]
          },
          "metadata": {
            "tags": []
          }
        },
        {
          "output_type": "stream",
          "text": [
            "Time elapsed:  309.9140598376592  minutes\n"
          ],
          "name": "stdout"
        }
      ]
    },
    {
      "cell_type": "code",
      "metadata": {
        "id": "bb3i_1r2XRbg",
        "outputId": "02a0dfe4-05ec-484e-f047-df76c47302e2",
        "colab": {
          "base_uri": "https://localhost:8080/",
          "height": 1000,
          "referenced_widgets": [
            "a338b129a1b542e799ee5fe833f32f46",
            "53b159f1bc7448eb8b3ec9a1d92c4070",
            "54f683cb8a2d4b0f96952ba60efe7835",
            "5710e203ee0c4d74a5d2b379106b786f",
            "b7b64b1c957349b5b7218aa843e934ad",
            "a9d5d8c8ac0b465497a88672d2390fe0",
            "f5297f09e079419e91516d849858faed",
            "552974328f2e48d683b0e5ff191be837"
          ]
        }
      },
      "source": [
        "# Testing cell\n",
        "# Confusion matrix plot and some other metrics like recall, precision and accuracy.\n",
        "flag_wandb_log_status = True\n",
        "b_s = test_loader.batch_size\n",
        "length_loader = len(test_loader)\n",
        "prediction_dataset, correct_label, test_accuracy = prediction(test_loader, model, wandb_log_status = flag_wandb_log_status )\n",
        "if(flag_wandb_log_status == True):\n",
        "  run_object.finish()\n",
        "\n",
        "\n",
        "length_prediction = b_s*length_loader\n",
        "prediction_dataset = np.array(prediction_dataset)\n",
        "prediction_dataset.resize([1,length_prediction])\n",
        "prediction_dataset.squeeze()\n",
        "prediction_dataset = prediction_dataset.tolist()\n",
        "prediction_dataset = prediction_dataset[0]\n",
        "\n",
        "\n",
        "correct_label = np.array(correct_label)\n",
        "correct_label.resize([1,length_prediction])\n",
        "correct_label.squeeze()\n",
        "correct_label = correct_label.tolist()\n",
        "correct_label = correct_label[0]\n",
        "\n",
        "c_matrix = (confusion_matrix(correct_label, prediction_dataset,labels= [0,1,2,3,4,5,6,7,8,9]))\n",
        "\n",
        "CM_title = \"Confusion matrix test set, accuracy = \" + str(test_accuracy)\n",
        "\n",
        "print(\" \")\n",
        "print(c_matrix)\n",
        "print(\" \")\n",
        "classes = [\"Class 0\",\"Class 1\",\"Class 2\",\"Class 3\",\"Class 4\",\"Class 5\",\"Class 6\",\"Class 7\",\"Class 8\",\"Class 9\"]\n",
        "confusion_matrix_plot(c_matrix, classes , title= CM_title, name_run_wandb = wandb_run_name)\n",
        "print(classification_report(correct_label, prediction_dataset))"
      ],
      "execution_count": 9,
      "outputs": [
        {
          "output_type": "stream",
          "text": [
            "cuda\n",
            "Accuracy:  90.69\n"
          ],
          "name": "stdout"
        },
        {
          "output_type": "display_data",
          "data": {
            "text/html": [
              "<br/>Waiting for W&B process to finish, PID 193<br/>Program ended successfully."
            ],
            "text/plain": [
              "<IPython.core.display.HTML object>"
            ]
          },
          "metadata": {
            "tags": []
          }
        },
        {
          "output_type": "display_data",
          "data": {
            "application/vnd.jupyter.widget-view+json": {
              "model_id": "a338b129a1b542e799ee5fe833f32f46",
              "version_minor": 0,
              "version_major": 2
            },
            "text/plain": [
              "VBox(children=(Label(value=' 0.00MB of 0.00MB uploaded (0.00MB deduped)\\r'), FloatProgress(value=1.0, max=1.0)…"
            ]
          },
          "metadata": {
            "tags": []
          }
        },
        {
          "output_type": "display_data",
          "data": {
            "text/html": [
              "Find user logs for this run at: <code>wandb/run-20201030_062054-2vdvrk8i/logs/debug.log</code>"
            ],
            "text/plain": [
              "<IPython.core.display.HTML object>"
            ]
          },
          "metadata": {
            "tags": []
          }
        },
        {
          "output_type": "display_data",
          "data": {
            "text/html": [
              "Find internal logs for this run at: <code>wandb/run-20201030_062054-2vdvrk8i/logs/debug-internal.log</code>"
            ],
            "text/plain": [
              "<IPython.core.display.HTML object>"
            ]
          },
          "metadata": {
            "tags": []
          }
        },
        {
          "output_type": "display_data",
          "data": {
            "text/html": [
              "<h3>Run summary:</h3><br/><style>\n",
              "    table.wandb td:nth-child(1) { padding: 0 10px; text-align: right }\n",
              "    </style><table class=\"wandb\">\n",
              "<tr><td>Train Accuracy</td><td>96.212</td></tr><tr><td>Train Loss</td><td>0.10734</td></tr><tr><td>_step</td><td>44</td></tr><tr><td>_runtime</td><td>18598</td></tr><tr><td>_timestamp</td><td>1604057452</td></tr><tr><td>Valid Accuracy</td><td>91.57</td></tr><tr><td>Valid Loss</td><td>0.25697</td></tr><tr><td>Test Accuracy</td><td>90.69</td></tr></table>"
            ],
            "text/plain": [
              "<IPython.core.display.HTML object>"
            ]
          },
          "metadata": {
            "tags": []
          }
        },
        {
          "output_type": "display_data",
          "data": {
            "text/html": [
              "<h3>Run history:</h3><br/><style>\n",
              "    table.wandb td:nth-child(1) { padding: 0 10px; text-align: right }\n",
              "    </style><table class=\"wandb\">\n",
              "<tr><td>Train Accuracy</td><td>▁▄▅▅▅▆▆▆▆▆▇▇▇▇▇▇▇█████</td></tr><tr><td>Train Loss</td><td>█▅▄▄▃▃▃▃▃▂▂▂▂▂▂▂▂▁▁▁▁▁</td></tr><tr><td>_step</td><td>▁▁▁▁▂▂▂▂▂▃▃▃▃▃▃▄▄▄▄▄▅▅▅▅▅▅▆▆▆▆▆▆▇▇▇▇▇███</td></tr><tr><td>_runtime</td><td>▁▁▁▁▂▂▂▂▂▃▃▃▃▃▃▄▄▄▄▄▅▅▅▅▅▆▆▆▆▆▆▇▇▇▇▇████</td></tr><tr><td>_timestamp</td><td>▁▁▁▁▂▂▂▂▂▃▃▃▃▃▃▄▄▄▄▄▅▅▅▅▅▆▆▆▆▆▆▇▇▇▇▇████</td></tr><tr><td>Valid Accuracy</td><td>▁▃▄▅▆▆▆▆▇▆▇▇██▇███████</td></tr><tr><td>Valid Loss</td><td>█▅▄▃▃▂▃▃▂▂▂▁▁▁▂▁▁▁▁▁▂▂</td></tr><tr><td>Test Accuracy</td><td>▁</td></tr></table><br/>"
            ],
            "text/plain": [
              "<IPython.core.display.HTML object>"
            ]
          },
          "metadata": {
            "tags": []
          }
        },
        {
          "output_type": "display_data",
          "data": {
            "text/html": [
              "Synced 5 W&B file(s), 1 media file(s), 0 artifact file(s) and 0 other file(s)"
            ],
            "text/plain": [
              "<IPython.core.display.HTML object>"
            ]
          },
          "metadata": {
            "tags": []
          }
        },
        {
          "output_type": "display_data",
          "data": {
            "text/html": [
              "\n",
              "                    <br/>Synced <strong style=\"color:#cdcd00\">Adam_final</strong>: <a href=\"https://wandb.ai/riteshchowdhry/project_nn_dl/runs/2vdvrk8i\" target=\"_blank\">https://wandb.ai/riteshchowdhry/project_nn_dl/runs/2vdvrk8i</a><br/>\n",
              "                "
            ],
            "text/plain": [
              "<IPython.core.display.HTML object>"
            ]
          },
          "metadata": {
            "tags": []
          }
        },
        {
          "output_type": "stream",
          "text": [
            " \n",
            "[[829   1  10  11   4   1 133   0  11   0]\n",
            " [  1 991   0   4   0   0   3   0   1   0]\n",
            " [ 22   1 816   8  49   0 103   0   1   0]\n",
            " [ 12  10   7 889  38   0  36   0   8   0]\n",
            " [  2   1  61  15 854   0  64   0   3   0]\n",
            " [  0   0   0   0   0 986   0   9   0   5]\n",
            " [ 90   4  30  17  66   0 781   0  12   0]\n",
            " [  0   0   0   0   0  11   0 973   1  15]\n",
            " [  2   1   1   1   1   1   3   1 989   0]\n",
            " [  0   0   0   0   0   7   1  30   1 961]]\n",
            " \n"
          ],
          "name": "stdout"
        },
        {
          "output_type": "display_data",
          "data": {
            "application/javascript": [
              "\n",
              "    async function download(id, filename, size) {\n",
              "      if (!google.colab.kernel.accessAllowed) {\n",
              "        return;\n",
              "      }\n",
              "      const div = document.createElement('div');\n",
              "      const label = document.createElement('label');\n",
              "      label.textContent = `Downloading \"${filename}\": `;\n",
              "      div.appendChild(label);\n",
              "      const progress = document.createElement('progress');\n",
              "      progress.max = size;\n",
              "      div.appendChild(progress);\n",
              "      document.body.appendChild(div);\n",
              "\n",
              "      const buffers = [];\n",
              "      let downloaded = 0;\n",
              "\n",
              "      const channel = await google.colab.kernel.comms.open(id);\n",
              "      // Send a message to notify the kernel that we're ready.\n",
              "      channel.send({})\n",
              "\n",
              "      for await (const message of channel.messages) {\n",
              "        // Send a message to notify the kernel that we're ready.\n",
              "        channel.send({})\n",
              "        if (message.buffers) {\n",
              "          for (const buffer of message.buffers) {\n",
              "            buffers.push(buffer);\n",
              "            downloaded += buffer.byteLength;\n",
              "            progress.value = downloaded;\n",
              "          }\n",
              "        }\n",
              "      }\n",
              "      const blob = new Blob(buffers, {type: 'application/binary'});\n",
              "      const a = document.createElement('a');\n",
              "      a.href = window.URL.createObjectURL(blob);\n",
              "      a.download = filename;\n",
              "      div.appendChild(a);\n",
              "      a.click();\n",
              "      div.remove();\n",
              "    }\n",
              "  "
            ],
            "text/plain": [
              "<IPython.core.display.Javascript object>"
            ]
          },
          "metadata": {
            "tags": []
          }
        },
        {
          "output_type": "display_data",
          "data": {
            "application/javascript": [
              "download(\"download_24ecb3ea-95a6-4679-b8c4-f63c04f94d81\", \"CM_Adam_final.png\", 26633)"
            ],
            "text/plain": [
              "<IPython.core.display.Javascript object>"
            ]
          },
          "metadata": {
            "tags": []
          }
        },
        {
          "output_type": "display_data",
          "data": {
            "image/png": "[encoded data removed]",
            "text/plain": [
              "<Figure size 432x288 with 1 Axes>"
            ]
          },
          "metadata": {
            "tags": []
          }
        },
        {
          "output_type": "stream",
          "text": [
            "              precision    recall  f1-score   support\n",
            "\n",
            "           0       0.87      0.83      0.85      1000\n",
            "           1       0.98      0.99      0.99      1000\n",
            "           2       0.88      0.82      0.85      1000\n",
            "           3       0.94      0.89      0.91      1000\n",
            "           4       0.84      0.85      0.85      1000\n",
            "           5       0.98      0.99      0.98      1000\n",
            "           6       0.69      0.78      0.74      1000\n",
            "           7       0.96      0.97      0.97      1000\n",
            "           8       0.96      0.99      0.98      1000\n",
            "           9       0.98      0.96      0.97      1000\n",
            "\n",
            "    accuracy                           0.91     10000\n",
            "   macro avg       0.91      0.91      0.91     10000\n",
            "weighted avg       0.91      0.91      0.91     10000\n",
            "\n"
          ],
          "name": "stdout"
        }
      ]
    }
  ]
}